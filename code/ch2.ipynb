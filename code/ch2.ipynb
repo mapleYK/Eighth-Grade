{
 "cells": [
  {
   "cell_type": "code",
   "execution_count": 1,
   "id": "c3d9b2c9-7a5e-4d81-8143-65411e9742e1",
   "metadata": {},
   "outputs": [
    {
     "name": "stdout",
     "output_type": "stream",
     "text": [
      "20\n"
     ]
    }
   ],
   "source": [
    "#可以變動的數叫變數\n",
    "a = 10\n",
    "a = 20\n",
    "print(a)"
   ]
  },
  {
   "cell_type": "code",
   "execution_count": 2,
   "id": "ba0bcd0d-7251-485f-8609-e9216854f3db",
   "metadata": {},
   "outputs": [
    {
     "name": "stdout",
     "output_type": "stream",
     "text": [
      "hello\n"
     ]
    }
   ],
   "source": [
    "b = hi\n",
    "b = \"hello\"\n",
    "print(b)"
   ]
  },
  {
   "cell_type": "code",
   "execution_count": 22,
   "id": "7d345a43-4133-4672-9f77-3a20ad5aaffc",
   "metadata": {},
   "outputs": [
    {
     "name": "stdout",
     "output_type": "stream",
     "text": [
      "x =     5，y = 3.1\n",
      "x = 5    , y = 3.1\n",
      "x = 5     , y =   3.1\n"
     ]
    }
   ],
   "source": [
    "#資料型態-數\n",
    "#整數(int)\n",
    "x = 5\n",
    "#浮點數(float)\n",
    "y = 3.14\n",
    "\n",
    "print(f\"x = {x:>5}，y = {y:.1f}\")\n",
    "print(\"x = {:<5}, y = {:.1f}\".format(x, y))\n",
    "print(\"x = %-6d, y = %5.1f\" %(x,y))"
   ]
  },
  {
   "cell_type": "code",
   "execution_count": 10,
   "id": "3420f5c2-b994-4f33-8dc8-51f86a071fe5",
   "metadata": {},
   "outputs": [
    {
     "name": "stdout",
     "output_type": "stream",
     "text": [
      "3.141592653589793\n"
     ]
    }
   ],
   "source": [
    "import math\n",
    "\n",
    "print(math.pi)\n",
    "#取到小數點第五位，並在右邊空6格"
   ]
  },
  {
   "cell_type": "code",
   "execution_count": 23,
   "id": "cb88cb05-b743-4604-9358-20579dec77c4",
   "metadata": {},
   "outputs": [
    {
     "name": "stdout",
     "output_type": "stream",
     "text": [
      "True\n"
     ]
    }
   ],
   "source": [
    "#布林值\n",
    "isPass = True\n",
    "print(isPass)"
   ]
  },
  {
   "cell_type": "code",
   "execution_count": 24,
   "id": "8a649637-33bf-4589-b0af-137dfc348828",
   "metadata": {},
   "outputs": [
    {
     "name": "stdout",
     "output_type": "stream",
     "text": [
      "5.0\n"
     ]
    }
   ],
   "source": [
    "#型態轉換\n",
    "x = 5\n",
    "x = float(5)\n",
    "print(x)"
   ]
  },
  {
   "cell_type": "code",
   "execution_count": 29,
   "id": "af89ba9e-e763-4571-9ad4-fba0e92a9fad",
   "metadata": {},
   "outputs": [
    {
     "name": "stdout",
     "output_type": "stream",
     "text": [
      "3\n",
      "3hi\n"
     ]
    }
   ],
   "source": [
    "#型態轉換\n",
    "y = 3.14\n",
    "y = int(y)\n",
    "print(y)\n",
    "\n",
    "p = \"hi\"\n",
    "y = str(y)\n",
    "print(y+p)"
   ]
  },
  {
   "cell_type": "code",
   "execution_count": 26,
   "id": "c5787060-a949-496d-9949-8121facbff35",
   "metadata": {},
   "outputs": [
    {
     "name": "stdout",
     "output_type": "stream",
     "text": [
      "123\n"
     ]
    }
   ],
   "source": [
    "#型態轉換\n",
    "z = \"123\"\n",
    "z = int(z)\n",
    "print(z)"
   ]
  },
  {
   "cell_type": "code",
   "execution_count": 30,
   "id": "7a6dd453-2dee-45a0-b4b1-afc8c1d750d1",
   "metadata": {},
   "outputs": [
    {
     "name": "stdout",
     "output_type": "stream",
     "text": [
      "a = 1, b = 12, c = 3\n"
     ]
    }
   ],
   "source": [
    "a = b = c = 10\n",
    "#b = b + 2\n",
    "b += 2\n",
    "a, c = 1,3\n",
    "print(f\"a = {a}, b = {b}, c = {c}\")"
   ]
  },
  {
   "cell_type": "code",
   "execution_count": 35,
   "id": "fd5f7d1f-ab87-4c67-88fd-bb1c11745aba",
   "metadata": {},
   "outputs": [
    {
     "name": "stdout",
     "output_type": "stream",
     "text": [
      "5.0\n",
      "5\n",
      "0\n",
      "100\n"
     ]
    }
   ],
   "source": [
    "#算術運算子\n",
    "x = 10\n",
    "y = 2\n",
    "print(x/y)\n",
    "print(x//y)\n",
    "print(x%y)\n",
    "print(x**y)"
   ]
  },
  {
   "cell_type": "code",
   "execution_count": 36,
   "id": "c7c011ac-288d-40a9-9213-2c0486cc6ba1",
   "metadata": {},
   "outputs": [
    {
     "name": "stdin",
     "output_type": "stream",
     "text": [
      "請輸入數字: 2\n"
     ]
    },
    {
     "name": "stdout",
     "output_type": "stream",
     "text": [
      "是偶數\n"
     ]
    }
   ],
   "source": [
    "#判斷是否為偶數\n",
    "number = input(\"請輸入數字:\")\n",
    "number = int(number)\n",
    "if number % 2 == 0:\n",
    "    print(\"是偶數\")\n",
    "else:\n",
    "    print(\"是奇數\")"
   ]
  },
  {
   "cell_type": "code",
   "execution_count": null,
   "id": "64018e11-dd5a-4238-abb6-3b9b63717d13",
   "metadata": {},
   "outputs": [],
   "source": []
  }
 ],
 "metadata": {
  "kernelspec": {
   "display_name": "Python 3 (ipykernel)",
   "language": "python",
   "name": "python3"
  },
  "language_info": {
   "codemirror_mode": {
    "name": "ipython",
    "version": 3
   },
   "file_extension": ".py",
   "mimetype": "text/x-python",
   "name": "python",
   "nbconvert_exporter": "python",
   "pygments_lexer": "ipython3",
   "version": "3.13.0"
  }
 },
 "nbformat": 4,
 "nbformat_minor": 5
}
